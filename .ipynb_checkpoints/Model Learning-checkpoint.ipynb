{
 "cells": [
  {
   "cell_type": "code",
   "execution_count": 1,
   "id": "4a3c7328",
   "metadata": {},
   "outputs": [
    {
     "name": "stdout",
     "output_type": "stream",
     "text": [
      "loading Roboflow workspace...\n",
      "loading Roboflow project...\n"
     ]
    },
    {
     "ename": "FileNotFoundError",
     "evalue": "[Errno 2] No such file or directory: 'IMG_6399.jpg'",
     "output_type": "error",
     "traceback": [
      "\u001b[1;31m---------------------------------------------------------------------------\u001b[0m",
      "\u001b[1;31mFileNotFoundError\u001b[0m                         Traceback (most recent call last)",
      "\u001b[1;32m~\\AppData\\Local\\Temp\\ipykernel_11552\\715992067.py\u001b[0m in \u001b[0;36m<module>\u001b[1;34m\u001b[0m\n\u001b[0;32m     13\u001b[0m \u001b[1;31m# obtention des prédictions du modèle pour l'image\u001b[0m\u001b[1;33m\u001b[0m\u001b[1;33m\u001b[0m\u001b[0m\n\u001b[0;32m     14\u001b[0m \u001b[1;31m# en utilisant un seuil de confiance de 40 et un chevauchement de 30\u001b[0m\u001b[1;33m\u001b[0m\u001b[1;33m\u001b[0m\u001b[0m\n\u001b[1;32m---> 15\u001b[1;33m \u001b[0mpredictions\u001b[0m \u001b[1;33m=\u001b[0m \u001b[0mmodel\u001b[0m\u001b[1;33m.\u001b[0m\u001b[0mpredict\u001b[0m\u001b[1;33m(\u001b[0m\u001b[0mimage_path\u001b[0m\u001b[1;33m,\u001b[0m \u001b[0mconfidence\u001b[0m\u001b[1;33m=\u001b[0m\u001b[1;36m80\u001b[0m\u001b[1;33m,\u001b[0m \u001b[0moverlap\u001b[0m\u001b[1;33m=\u001b[0m\u001b[1;36m60\u001b[0m\u001b[1;33m)\u001b[0m\u001b[1;33m.\u001b[0m\u001b[0mjson\u001b[0m\u001b[1;33m(\u001b[0m\u001b[1;33m)\u001b[0m\u001b[1;33m\u001b[0m\u001b[1;33m\u001b[0m\u001b[0m\n\u001b[0m\u001b[0;32m     16\u001b[0m \u001b[1;33m\u001b[0m\u001b[0m\n\u001b[0;32m     17\u001b[0m \u001b[1;31m# ouverture du fichier image avec PIL\u001b[0m\u001b[1;33m\u001b[0m\u001b[1;33m\u001b[0m\u001b[0m\n",
      "\u001b[1;32m~\\anaconda3\\lib\\site-packages\\roboflow\\models\\object_detection.py\u001b[0m in \u001b[0;36mpredict\u001b[1;34m(self, image_path, hosted, format, classes, overlap, confidence, stroke, labels)\u001b[0m\n\u001b[0;32m    160\u001b[0m         \u001b[1;32mif\u001b[0m \u001b[1;32mnot\u001b[0m \u001b[0mhosted\u001b[0m\u001b[1;33m:\u001b[0m\u001b[1;33m\u001b[0m\u001b[1;33m\u001b[0m\u001b[0m\n\u001b[0;32m    161\u001b[0m             \u001b[1;32mif\u001b[0m \u001b[0mtype\u001b[0m\u001b[1;33m(\u001b[0m\u001b[0mimage_path\u001b[0m\u001b[1;33m)\u001b[0m \u001b[1;32mis\u001b[0m \u001b[0mstr\u001b[0m\u001b[1;33m:\u001b[0m\u001b[1;33m\u001b[0m\u001b[1;33m\u001b[0m\u001b[0m\n\u001b[1;32m--> 162\u001b[1;33m                 \u001b[0mimage\u001b[0m \u001b[1;33m=\u001b[0m \u001b[0mImage\u001b[0m\u001b[1;33m.\u001b[0m\u001b[0mopen\u001b[0m\u001b[1;33m(\u001b[0m\u001b[0mimage_path\u001b[0m\u001b[1;33m)\u001b[0m\u001b[1;33m.\u001b[0m\u001b[0mconvert\u001b[0m\u001b[1;33m(\u001b[0m\u001b[1;34m\"RGB\"\u001b[0m\u001b[1;33m)\u001b[0m\u001b[1;33m\u001b[0m\u001b[1;33m\u001b[0m\u001b[0m\n\u001b[0m\u001b[0;32m    163\u001b[0m                 \u001b[0mdimensions\u001b[0m \u001b[1;33m=\u001b[0m \u001b[0mimage\u001b[0m\u001b[1;33m.\u001b[0m\u001b[0msize\u001b[0m\u001b[1;33m\u001b[0m\u001b[1;33m\u001b[0m\u001b[0m\n\u001b[0;32m    164\u001b[0m                 \u001b[0moriginal_dimensions\u001b[0m \u001b[1;33m=\u001b[0m \u001b[0mcopy\u001b[0m\u001b[1;33m.\u001b[0m\u001b[0mdeepcopy\u001b[0m\u001b[1;33m(\u001b[0m\u001b[0mdimensions\u001b[0m\u001b[1;33m)\u001b[0m\u001b[1;33m\u001b[0m\u001b[1;33m\u001b[0m\u001b[0m\n",
      "\u001b[1;32m~\\anaconda3\\lib\\site-packages\\PIL\\Image.py\u001b[0m in \u001b[0;36mopen\u001b[1;34m(fp, mode, formats)\u001b[0m\n\u001b[0;32m   3090\u001b[0m \u001b[1;33m\u001b[0m\u001b[0m\n\u001b[0;32m   3091\u001b[0m     \u001b[1;32mif\u001b[0m \u001b[0mfilename\u001b[0m\u001b[1;33m:\u001b[0m\u001b[1;33m\u001b[0m\u001b[1;33m\u001b[0m\u001b[0m\n\u001b[1;32m-> 3092\u001b[1;33m         \u001b[0mfp\u001b[0m \u001b[1;33m=\u001b[0m \u001b[0mbuiltins\u001b[0m\u001b[1;33m.\u001b[0m\u001b[0mopen\u001b[0m\u001b[1;33m(\u001b[0m\u001b[0mfilename\u001b[0m\u001b[1;33m,\u001b[0m \u001b[1;34m\"rb\"\u001b[0m\u001b[1;33m)\u001b[0m\u001b[1;33m\u001b[0m\u001b[1;33m\u001b[0m\u001b[0m\n\u001b[0m\u001b[0;32m   3093\u001b[0m         \u001b[0mexclusive_fp\u001b[0m \u001b[1;33m=\u001b[0m \u001b[1;32mTrue\u001b[0m\u001b[1;33m\u001b[0m\u001b[1;33m\u001b[0m\u001b[0m\n\u001b[0;32m   3094\u001b[0m \u001b[1;33m\u001b[0m\u001b[0m\n",
      "\u001b[1;31mFileNotFoundError\u001b[0m: [Errno 2] No such file or directory: 'IMG_6399.jpg'"
     ]
    }
   ],
   "source": [
    "# import des bibliothèques requises\n",
    "from roboflow import Roboflow\n",
    "from PIL import Image, ImageDraw\n",
    "\n",
    "# configuration du client Roboflow\n",
    "rf = Roboflow(api_key=\"08aLPIwn6wT5XhvIOvIx\")\n",
    "# récupération du projet et du modèle depuis Roboflow\n",
    "project = rf.workspace().project(\"coins-r6on6\")\n",
    "model = project.version(2).model\n",
    "\n",
    "# définition du chemin d'accès au fichier image\n",
    "image_path = \"IMG_6399.jpg\"\n",
    "# obtention des prédictions du modèle pour l'image\n",
    "# en utilisant un seuil de confiance de 40 et un chevauchement de 30\n",
    "predictions = model.predict(image_path, confidence=80, overlap=60).json()\n",
    "\n",
    "# ouverture du fichier image avec PIL\n",
    "im = Image.open(image_path)\n",
    "# création d'un objet Draw pour dessiner sur l'image\n",
    "draw = ImageDraw.Draw(im)\n",
    "\n",
    "# visualize your prediction \n",
    "model.predict(\"IMG_6399.jpg\", confidence=40, overlap=30).save(\"prediction.jpg\") \n",
    "immm=Image.open(\"prediction.jpg\")\n",
    "# boucle à travers les prédictions et dessin de boîtes englobantes et d'étiquettes sur l'image\n",
    "for pred in predictions['predictions']:\n",
    "    print(pred['class'])  # affichage de la classe de la prédiction\n",
    "    if 'bbox' in pred:  # si la prédiction a une boîte englobante\n",
    "        box = pred['bbox']  # récupération des coordonnées de la boîte englobante\n",
    "        # dessin de la boîte englobante sur l'image\n",
    "        draw.rectangle([(box['left'], box['top']), (box['right'], box['bottom'])], outline=(0, 255, 0), width=2)\n",
    "        # dessin de l'étiquette au-dessus de la boîte englobante\n",
    "        draw.text((box['left'], box['top'] - 10), pred['class'], fill=(0, 255, 0))\n",
    "\n",
    "# affichage de l'image avec les boîtes englobantes et les étiquettes\n",
    "immm.show()\n",
    "\n",
    "# calcul de la somme des pièces détectées dans l'image\n",
    "sum = 0\n",
    "for pred in predictions['predictions']:\n",
    "    # ajout de la valeur de chaque pièce à la somme\n",
    "    if pred['class'] == '2Dollar':\n",
    "        sum += 2.0\n",
    "    elif pred['class'] == '1Dollar':\n",
    "        sum += 1.0\n",
    "    elif pred['class'] == '25Cents':\n",
    "        sum += 0.25\n",
    "    elif pred['class'] == '10Cents':\n",
    "        sum += 0.10\n",
    "    elif pred['class'] == '5Cents':\n",
    "        sum += 0.05\n",
    "\n",
    "# affichage de la somme des pièces détectées\n",
    "print(\"La somme est de $\"+str(sum))\n"
   ]
  }
 ],
 "metadata": {
  "kernelspec": {
   "display_name": "Python 3 (ipykernel)",
   "language": "python",
   "name": "python3"
  },
  "language_info": {
   "codemirror_mode": {
    "name": "ipython",
    "version": 3
   },
   "file_extension": ".py",
   "mimetype": "text/x-python",
   "name": "python",
   "nbconvert_exporter": "python",
   "pygments_lexer": "ipython3",
   "version": "3.9.13"
  }
 },
 "nbformat": 4,
 "nbformat_minor": 5
}
