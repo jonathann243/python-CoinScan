{
 "cells": [
  {
   "cell_type": "code",
   "execution_count": 6,
   "id": "4a3c7328",
   "metadata": {},
   "outputs": [
    {
     "name": "stdout",
     "output_type": "stream",
     "text": [
      "loading Roboflow workspace...\n",
      "loading Roboflow project...\n",
      "10Cents\n",
      "10Cents\n",
      "25Cents\n",
      "1Dollar\n",
      "1Dollar\n",
      "5Cents\n",
      "La somme est de $2.5\n"
     ]
    }
   ],
   "source": [
    "# import des bibliothèques requises\n",
    "from roboflow import Roboflow\n",
    "from PIL import Image, ImageDraw\n",
    "\n",
    "# configuration du client Roboflow\n",
    "rf = Roboflow(api_key=\"08aLPIwn6wT5XhvIOvIx\")\n",
    "# récupération du projet et du modèle depuis Roboflow\n",
    "project = rf.workspace().project(\"coins-r6on6\")\n",
    "model = project.version(2).model\n",
    "\n",
    "\n",
    "\n",
    "# définition du chemin d'accès au fichier image\n",
    "image_path = \"IMG_6399.jpg\"\n",
    "# obtention des prédictions du modèle pour l'image\n",
    "# en utilisant un seuil de confiance de 40 et un chevauchement de 30\n",
    "predictions = model.predict(image_path, confidence=80, overlap=60).json()\n",
    "\n",
    "# ouverture du fichier image avec PIL\n",
    "im = Image.open(image_path)\n",
    "# création d'un objet Draw pour dessiner sur l'image\n",
    "draw = ImageDraw.Draw(im)\n",
    "\n",
    "# visualize your prediction \n",
    "model.predict(\"IMG_6399.jpg\", confidence=40, overlap=30).save(\"prediction.jpg\") \n",
    "immm=Image.open(\"prediction.jpg\")\n",
    "# boucle à travers les prédictions et dessin de boîtes englobantes et d'étiquettes sur l'image\n",
    "for pred in predictions['predictions']:\n",
    "    print(pred['class'])  # affichage de la classe de la prédiction\n",
    "    if 'bbox' in pred:  # si la prédiction a une boîte englobante\n",
    "        box = pred['bbox']  # récupération des coordonnées de la boîte englobante\n",
    "        # dessin de la boîte englobante sur l'image\n",
    "        draw.rectangle([(box['left'], box['top']), (box['right'], box['bottom'])], outline=(0, 255, 0), width=2)\n",
    "        # dessin de l'étiquette au-dessus de la boîte englobante\n",
    "        draw.text((box['left'], box['top'] - 10), pred['class'], fill=(0, 255, 0))\n",
    "\n",
    "# affichage de l'image avec les boîtes englobantes et les étiquettes\n",
    "immm.show()\n",
    "\n",
    "# calcul de la somme des pièces détectées dans l'image\n",
    "sum = 0\n",
    "for pred in predictions['predictions']:\n",
    "    # ajout de la valeur de chaque pièce à la somme\n",
    "    if pred['class'] == '2Dollar':\n",
    "        sum += 2.0\n",
    "    elif pred['class'] == '1Dollar':\n",
    "        sum += 1.0\n",
    "    elif pred['class'] == '25Cents':\n",
    "        sum += 0.25\n",
    "    elif pred['class'] == '10Cents':\n",
    "        sum += 0.10\n",
    "    elif pred['class'] == '5Cents':\n",
    "        sum += 0.05\n",
    "\n",
    "# affichage de la somme des pièces détectées\n",
    "print(\"La somme est de $\"+str(sum))\n"
   ]
  }
 ],
 "metadata": {
  "kernelspec": {
   "display_name": "Python 3 (ipykernel)",
   "language": "python",
   "name": "python3"
  },
  "language_info": {
   "codemirror_mode": {
    "name": "ipython",
    "version": 3
   },
   "file_extension": ".py",
   "mimetype": "text/x-python",
   "name": "python",
   "nbconvert_exporter": "python",
   "pygments_lexer": "ipython3",
   "version": "3.9.13"
  }
 },
 "nbformat": 4,
 "nbformat_minor": 5
}
