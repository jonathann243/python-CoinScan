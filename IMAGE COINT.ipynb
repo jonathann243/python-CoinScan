{
 "cells": [
  {
   "cell_type": "code",
   "execution_count": 81,
   "id": "7f016c07",
   "metadata": {},
   "outputs": [],
   "source": [
    "import tkinter as tk\n",
    "import os\n",
    "from tkinter import filedialog\n",
    "from PIL import Image, ImageTk\n",
    "import cv2\n",
    "#creer fenetre \n",
    "window = tk.Tk()\n",
    "window.title(\"IMG Detector\")\n",
    "window.geometry(\"1080x720\")#taille ecran\n",
    "window.minsize(550,550)#taille Minimal par défaut\n",
    "window.iconbitmap(\"icone/icone.ico\") #Icon\n",
    "window.config(background='#14213D')#Background hexadecimal\n",
    "photo = None\n",
    "img_path = None"
   ]
  },
  {
   "cell_type": "code",
   "execution_count": 82,
   "id": "f1812ca5",
   "metadata": {},
   "outputs": [],
   "source": [
    "     # definir une methode pour lire une image a partir d'une repertoire et l'afficher dans le label.\n",
    "def getImg():\n",
    "    # lire une image a partir d'une repertoire\n",
    "    global img_path \n",
    "    img_path = filedialog.askopenfilename(title='choisir un fichier')\n",
    "    img = Image.open(img_path)\n",
    "    width, height = img.size\n",
    "    img =  img.resize((500, int(500/width*height)))\n",
    "    \n",
    "    if(img_path!=None):\n",
    "\n",
    "            imgOriginal = cv2.imread(img_path) \n",
    "            imgGris =  cv2.cvtColor(imgOriginal,  cv2.COLOR_BGR2GRAY)\n",
    "            seuil,imgbw = cv2.threshold(imgGris,0,255, cv2.THRESH_OTSU)\n",
    "            contours, hierarchy = cv2.findContours(imgbw,cv2.RETR_TREE,cv2.CHAIN_APPROX_SIMPLE)\n",
    "            cv2.drawContours(imgOriginal, contours, -1, (0,0,255), 2)\n",
    "            filename = \"imgageContours.jpg\"\n",
    "            \n",
    "                # afficher l'image Original dans le label  \n",
    "            photo = ImageTk.PhotoImage(img.resize((450, 450)))  \n",
    "            labelImg1.configure(image = photo)\n",
    "            labelImg1.image = photo\n",
    "\n",
    "            if os.path.exists(filename):\n",
    "                os.remove(filename)\n",
    "\n",
    "            cv2.imwrite(filename, imgOriginal)\n",
    "\n",
    "            # afficher l'image avec contours dans le label\n",
    "            imgAvecContours = Image.open(\"imgageContours.jpg\")\n",
    "            width, height = imgAvecContours.size\n",
    "            imgAvecContours =  imgAvecContours.resize((450, 450))\n",
    "            photo = ImageTk.PhotoImage(imgAvecContours)  \n",
    "            labelImg.configure(image = photo)\n",
    "            labelImg.image = photo\n",
    "    \n"
   ]
  },
  {
   "cell_type": "code",
   "execution_count": 83,
   "id": "729ae7c9",
   "metadata": {},
   "outputs": [],
   "source": [
    "\n",
    "#creation d'une boite \n",
    "frame = tk.Frame(window,bg='#14213D',bd=0,relief=tk.SUNKEN)\n",
    "\n",
    "frame_boutons = tk.Frame(frame, bg='#14213D')\n",
    "self_bouton = tk.Button(frame_boutons, text='Ouvrir une image  ', command=getImg, bg='#FCA311',fg='#FFFFFF',height=2)\n",
    "self_bouton.pack(expand=True)\n",
    "frame_boutons.pack(side=\"top\", fill=tk.X, padx=10, pady=10,anchor=tk.CENTER)\n",
    "\n",
    "\n",
    "frame_Img = tk.Frame(frame, bg='#14213D')\n",
    "    # creer un label pour afficher une image\n",
    "labelImg1 = tk.Label(frame_Img, bg='white', fg='white', )\n",
    "imgAvecCont0 = Image.open(\"Imagenot.jpg\")\n",
    "width, height = imgAvecCont0.size\n",
    "imgAvecCont0 =  imgAvecCont0.resize((450, 450))\n",
    "photo0 = ImageTk.PhotoImage(imgAvecCont0)  \n",
    "labelImg1.configure(image = photo0)\n",
    "labelImg1.image = photo0\n",
    "labelImg1.pack( side='left',expand=True)\n",
    "    \n",
    "# creer un label pour afficher une image\n",
    "labelImg = tk.Label(frame_Img, bg='#14213D', fg='#14213D', )\n",
    "   # afficher l'image avec contours dans le label\n",
    "imgAvecCont = Image.open(\"Imagenot.jpg\")\n",
    "width, height = imgAvecCont.size\n",
    "imgAvecCont =  imgAvecCont.resize((450, 450))\n",
    "photo = ImageTk.PhotoImage(imgAvecCont)  \n",
    "labelImg.configure(image = photo)\n",
    "labelImg.image = photo\n",
    "labelImg.pack(expand=True)\n",
    "frame_Img.pack(side=\"top\", fill=tk.X, padx=10, pady=10,anchor=tk.CENTER)\n",
    "\n",
    "# Ajout d'un label pour afficher le texte\n",
    "label = tk.Label(frame, text=\"Nous disposons de : \\n\\n **** 25  cent \\n **** 50  cent \\n **** 100 cent \\n **** 200 cent \\n\\n La somme Total de piece est de : ****cent\", wraplength=400, bg='#14213D', fg='#FFFFFF',bd=1,relief=tk.SUNKEN)\n",
    "label.pack(expand=True)\n",
    "\n",
    "# Copyrigth\n",
    "copyright = tk.Label(frame, text=\"\\nCopyright \\u00A9 Jonathan Kanyinda | Winner Pindi | Isaac Kampanga| Kevin Nimi\", bg='#14213D', fg='#FFFFFF')\n",
    "copyright.pack(side=\"top\", fill=tk.X, padx=10, pady=10,anchor=tk.CENTER)"
   ]
  },
  {
   "cell_type": "code",
   "execution_count": 84,
   "id": "c8cb2373",
   "metadata": {},
   "outputs": [
    {
     "name": "stderr",
     "output_type": "stream",
     "text": [
      "Exception in Tkinter callback\n",
      "Traceback (most recent call last):\n",
      "  File \"C:\\Users\\Utilisateur\\anaconda3\\lib\\site-packages\\PIL\\Image.py\", line 3096, in open\n",
      "    fp.seek(0)\n",
      "AttributeError: 'str' object has no attribute 'seek'\n",
      "\n",
      "During handling of the above exception, another exception occurred:\n",
      "\n",
      "Traceback (most recent call last):\n",
      "  File \"C:\\Users\\Utilisateur\\anaconda3\\lib\\tkinter\\__init__.py\", line 1892, in __call__\n",
      "    return self.func(*args)\n",
      "  File \"C:\\Users\\Utilisateur\\AppData\\Local\\Temp\\ipykernel_23172\\2691535338.py\", line 6, in getImg\n",
      "    img = Image.open(img_path)\n",
      "  File \"C:\\Users\\Utilisateur\\anaconda3\\lib\\site-packages\\PIL\\Image.py\", line 3098, in open\n",
      "    fp = io.BytesIO(fp.read())\n",
      "AttributeError: 'str' object has no attribute 'read'\n"
     ]
    }
   ],
   "source": [
    "\n",
    "frame.pack()\n",
    "#afficher fenetre\n",
    "window.mainloop()"
   ]
  }
 ],
 "metadata": {
  "kernelspec": {
   "display_name": "Python 3 (ipykernel)",
   "language": "python",
   "name": "python3"
  },
  "language_info": {
   "codemirror_mode": {
    "name": "ipython",
    "version": 3
   },
   "file_extension": ".py",
   "mimetype": "text/x-python",
   "name": "python",
   "nbconvert_exporter": "python",
   "pygments_lexer": "ipython3",
   "version": "3.9.13"
  },
  "vscode": {
   "interpreter": {
    "hash": "978966e1d13ef4d467de789a8358895e1a935a4973a97c9bee0ebbb045235557"
   }
  }
 },
 "nbformat": 4,
 "nbformat_minor": 5
}
