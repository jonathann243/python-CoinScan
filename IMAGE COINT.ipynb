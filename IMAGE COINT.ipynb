{
 "cells": [
  {
   "cell_type": "code",
   "execution_count": 41,
   "id": "7f016c07",
   "metadata": {},
   "outputs": [],
   "source": [
    "import tkinter as tk\n",
    "import os\n",
    "from tkinter import filedialog\n",
    "from PIL import Image, ImageTk\n",
    "import cv2\n",
    "#creer fenetre \n",
    "window = tk.Tk()\n",
    "window.title(\"IMG Detector\")\n",
    "window.geometry(\"1080x720\")#taille ecran\n",
    "window.minsize(550,550)#taille Minimal par défaut\n",
    "window.iconbitmap(\"icone/icone.ico\") #Icon\n",
    "window.config(background='#14213D')#Background hexadecimal\n",
    "photo = None\n",
    "img_path = None"
   ]
  },
  {
   "cell_type": "code",
   "execution_count": 42,
   "id": "f1812ca5",
   "metadata": {},
   "outputs": [],
   "source": [
    "     # definir une methode pour lire une image a partir d'une repertoire et l'afficher dans le label.\n",
    "def getImg():\n",
    "    # lire une image a partir d'une repertoire\n",
    "    global img_path \n",
    "    img_path = filedialog.askopenfilename(title='choisir un fichier')\n",
    "    img = Image.open(img_path)\n",
    "    width, height = img.size\n",
    "    img =  img.resize((500, int(500/width*height)))\n",
    "    \n",
    "    if(img_path!=None):\n",
    "\n",
    "            imgOriginal = cv2.imread(img_path) \n",
    "            imgGris =  cv2.cvtColor(imgOriginal,  cv2.COLOR_BGR2GRAY)\n",
    "            seuil,imgbw = cv2.threshold(imgGris,0,255, cv2.THRESH_OTSU)\n",
    "            contours, hierarchy = cv2.findContours(imgbw,cv2.RETR_TREE,cv2.CHAIN_APPROX_SIMPLE)\n",
    "            cv2.drawContours(imgOriginal, contours, -1, (0,0,255), 2)\n",
    "            filename = \"imgageContours.jpg\"\n",
    "\n",
    "            if os.path.exists(filename):\n",
    "                os.remove(filename)\n",
    "\n",
    "            cv2.imwrite(filename, imgOriginal)\n",
    "\n",
    "            # afficher l'image avec contours dans le label\n",
    "            imgAvecContours = Image.open(\"imgageContours.jpg\")\n",
    "            width, height = imgAvecContours.size\n",
    "            imgAvecContours =  imgAvecContours.resize((450, 450))\n",
    "            photo = ImageTk.PhotoImage(imgAvecContours)  \n",
    "            labelImg.configure(image = photo)\n",
    "            labelImg.image = photo\n",
    "    \n"
   ]
  },
  {
   "cell_type": "code",
   "execution_count": null,
   "id": "a7a637ba",
   "metadata": {},
   "outputs": [],
   "source": []
  },
  {
   "cell_type": "code",
   "execution_count": null,
   "id": "2ed53c32",
   "metadata": {},
   "outputs": [],
   "source": []
  },
  {
   "cell_type": "code",
   "execution_count": null,
   "id": "8269f438",
   "metadata": {},
   "outputs": [],
   "source": []
  },
  {
   "cell_type": "code",
   "execution_count": 43,
   "id": "729ae7c9",
   "metadata": {},
   "outputs": [],
   "source": [
    "\n",
    "#creation d'une boite \n",
    "frame = tk.Frame(window,bg='#14213D',bd=0,relief=tk.SUNKEN)\n",
    "\n",
    "frame_boutons = tk.Frame(frame, bg='#14213D')\n",
    "self_bouton = tk.Button(frame_boutons, text='Ouvrir une image  ', command=getImg, bg='#FCA311',fg='#FFFFFF',height=2)\n",
    "self_bouton.pack(expand=True)\n",
    "\n",
    "\n",
    "frame_boutons.pack(side=\"top\", fill=tk.X, padx=10, pady=10,anchor=tk.CENTER)\n",
    "       \n",
    "# creer un label pour afficher une image\n",
    "labelImg = tk.Label(frame, bg='#14213D', fg='#14213D', )\n",
    "labelImg.pack( padx=10, pady=10,expand=True)\n",
    "# Ajout d'un label pour afficher le texte\n",
    "label = tk.Label(frame, text=\"Nous disposons de : \\n\\n **** 25  cent \\n **** 50  cent \\n **** 100 cent \\n **** 200 cent \\n\\n La somme Total de piece est de : ****cent\", wraplength=400, bg='#14213D', fg='#FFFFFF',bd=1,relief=tk.SUNKEN)\n",
    "label.pack(expand=True)\n",
    "\n",
    "# Copyrigth\n",
    "copyright = tk.Label(frame, text=\"\\nCopyright \\u00A9 Jonathan Kanyinda | Winner Pindi | Isaac Kampanga| Kevin \", bg='#14213D', fg='#FFFFFF')\n",
    "copyright.pack(side=\"bottom\", anchor=tk.E)"
   ]
  },
  {
   "cell_type": "code",
   "execution_count": 44,
   "id": "c8cb2373",
   "metadata": {},
   "outputs": [
    {
     "name": "stderr",
     "output_type": "stream",
     "text": [
      "Exception in Tkinter callback\n",
      "Traceback (most recent call last):\n",
      "  File \"C:\\Users\\Utilisateur\\anaconda3\\lib\\tkinter\\__init__.py\", line 1892, in __call__\n",
      "    return self.func(*args)\n",
      "  File \"C:\\Users\\Utilisateur\\AppData\\Local\\Temp\\ipykernel_17240\\4191205534.py\", line 13, in getImg\n",
      "    imgGris =  cv2.cvtColor(imgOriginal,  cv2.COLOR_BGR2GRAY)\n",
      "cv2.error: OpenCV(4.7.0) D:\\a\\opencv-python\\opencv-python\\opencv\\modules\\imgproc\\src\\color.cpp:182: error: (-215:Assertion failed) !_src.empty() in function 'cv::cvtColor'\n",
      "\n"
     ]
    }
   ],
   "source": [
    "\n",
    "frame.pack()\n",
    "#afficher fenetre\n",
    "window.mainloop()"
   ]
  },
  {
   "cell_type": "code",
   "execution_count": null,
   "id": "8774db66",
   "metadata": {},
   "outputs": [],
   "source": []
  },
  {
   "cell_type": "code",
   "execution_count": null,
   "id": "3e68ad3a",
   "metadata": {},
   "outputs": [],
   "source": []
  },
  {
   "cell_type": "code",
   "execution_count": null,
   "id": "f584eb37",
   "metadata": {},
   "outputs": [],
   "source": []
  }
 ],
 "metadata": {
  "kernelspec": {
   "display_name": "Python 3 (ipykernel)",
   "language": "python",
   "name": "python3"
  },
  "language_info": {
   "codemirror_mode": {
    "name": "ipython",
    "version": 3
   },
   "file_extension": ".py",
   "mimetype": "text/x-python",
   "name": "python",
   "nbconvert_exporter": "python",
   "pygments_lexer": "ipython3",
   "version": "3.9.13"
  },
  "vscode": {
   "interpreter": {
    "hash": "978966e1d13ef4d467de789a8358895e1a935a4973a97c9bee0ebbb045235557"
   }
  }
 },
 "nbformat": 4,
 "nbformat_minor": 5
}
